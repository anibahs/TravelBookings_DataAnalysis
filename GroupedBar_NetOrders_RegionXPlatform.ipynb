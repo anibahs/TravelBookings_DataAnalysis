{
  "nbformat": 4,
  "nbformat_minor": 0,
  "metadata": {
    "colab": {
      "provenance": [],
      "collapsed_sections": [],
      "authorship_tag": "ABX9TyOZ7HcQd5JMdIIhP/1W8Tpk",
      "include_colab_link": true
    },
    "kernelspec": {
      "name": "python3",
      "display_name": "Python 3"
    },
    "language_info": {
      "name": "python"
    }
  },
  "cells": [
    {
      "cell_type": "markdown",
      "metadata": {
        "id": "view-in-github",
        "colab_type": "text"
      },
      "source": [
        "<a href=\"https://colab.research.google.com/github/anibahs/TravelBookings_DataAnalysis/blob/main/GroupedBar_NetOrders_RegionXPlatform.ipynb\" target=\"_parent\"><img src=\"https://colab.research.google.com/assets/colab-badge.svg\" alt=\"Open In Colab\"/></a>"
      ]
    },
    {
      "cell_type": "code",
      "execution_count": null,
      "metadata": {
        "id": "MHu9V7T3fcGf"
      },
      "outputs": [],
      "source": [
        "import pandas as pd;\n",
        "from matplotlib import pyplot as plt\n",
        "import numpy as np;\n",
        "%matplotlib inline"
      ]
    },
    {
      "cell_type": "code",
      "source": [
        "df = pd.read_excel(\"/content/Dataset.xlsx\",names=[\"week\",\"mobile_indicator_name\",\"platform_type_name\",\"super_region\",\"country_name\",\"booking_window_group\",\n",
        "         \"property_country\",\"net_gross_booking_value_usd\",\"net_orders\"])\n",
        "  \n"
      ],
      "metadata": {
        "id": "hdNd1fqZfkpV"
      },
      "execution_count": 102,
      "outputs": []
    },
    {
      "cell_type": "code",
      "source": [
        "entries_by_platform=df.groupby([\"super_region\",\"platform_type_name\"],as_index=False).agg(orders = ('net_orders', 'sum'))\n"
      ],
      "metadata": {
        "id": "fy_1wtc5mXt9"
      },
      "execution_count": 106,
      "outputs": []
    },
    {
      "cell_type": "code",
      "source": [
        "listofLists = []\n",
        "\n",
        "for i in range(2,len(entries_by_platform),3):\n",
        "    listofLists.append([entries_by_platform.loc[i-2, \"super_region\"],entries_by_platform.loc[i-2, \n",
        "              \"orders\"],entries_by_platform.loc[i-1, \"orders\"],entries_by_platform.loc[i, \"orders\"]])\n",
        "    \n",
        "    \n",
        "df1=pd.DataFrame(listofLists, columns=['Region', 'Desktop', 'Mobile App', 'Mobile Web'])\n",
        "print(entries_by_platform)\n",
        "df1.plot(x='Region',\n",
        "        kind='bar',\n",
        "        stacked=False,\n",
        "        title='Grouped Bar Graph with dataframe')"
      ],
      "metadata": {
        "colab": {
          "base_uri": "https://localhost:8080/",
          "height": 509
        },
        "id": "wtbBVO5Im55A",
        "outputId": "984d8b1a-5267-4de9-ea30-da8ab7c5a68c"
      },
      "execution_count": 107,
      "outputs": [
        {
          "output_type": "stream",
          "name": "stdout",
          "text": [
            "  super_region platform_type_name  orders\n",
            "0         APAC            Desktop  208023\n",
            "1         APAC         Mobile App   77206\n",
            "2         APAC         Mobile Web   48980\n",
            "3         EMEA            Desktop  314955\n",
            "4         EMEA         Mobile App   46535\n",
            "5         EMEA         Mobile Web   86960\n",
            "6        LATAM            Desktop   71338\n",
            "7        LATAM         Mobile App    8839\n",
            "8        LATAM         Mobile Web   12443\n"
          ]
        },
        {
          "output_type": "execute_result",
          "data": {
            "text/plain": [
              "<matplotlib.axes._subplots.AxesSubplot at 0x7fde7eb305d0>"
            ]
          },
          "metadata": {},
          "execution_count": 107
        },
        {
          "output_type": "display_data",
          "data": {
            "text/plain": [
              "<Figure size 432x288 with 1 Axes>"
            ],
            "image/png": "[encoded data removed]"
          },
          "metadata": {
            "needs_background": "light"
          }
        }
      ]
    },
    {
      "cell_type": "markdown",
      "source": [
        "# New section"
      ],
      "metadata": {
        "id": "YUw67S097oXw"
      }
    },
    {
      "cell_type": "code",
      "source": [
        "df.info()"
      ],
      "metadata": {
        "id": "jCg6cMa9gRb5"
      },
      "execution_count": null,
      "outputs": []
    },
    {
      "cell_type": "code",
      "source": [
        "df.platform_type_name.value_counts()"
      ],
      "metadata": {
        "id": "UPb9O6VJg4Sl"
      },
      "execution_count": null,
      "outputs": []
    },
    {
      "cell_type": "code",
      "source": [
        "\n",
        "plat1 = df.loc[df.platform_type_name == 'Desktop']['net_orders']\n",
        "plat2 = df.loc[df.platform_type_name == 'Mobile Web']['net_orders']\n",
        "plat3 = df.loc[df.platform_type_name == 'Mobile App']['net_orders']\n",
        "\n",
        "plat = pd.concat([plat1,plat2,plat3], axis =1)\n",
        "plat.values.tolist()\n",
        "\n",
        "plat\n",
        "\n",
        "\n",
        "\n"
      ],
      "metadata": {
        "id": "STFpWOIcjGLx"
      },
      "execution_count": null,
      "outputs": []
    },
    {
      "cell_type": "code",
      "source": [
        "x  = ['Desktop','Mobile Web', 'Mobile App']\n",
        "\n",
        "desktop = df.loc[df.platform_type_name == 'Desktop']['net_orders']\n",
        "mobile_web = df.loc[df.platform_type_name == 'Mobile Web']['net_orders']\n",
        "mobile_app = df.loc[df.platform_type_name == 'Mobile App']['net_orders']\n",
        "\n",
        " \n",
        "df.plot(x= \"platform_type_name\", y= \"net_orders\", kind=\"bar\")"
      ],
      "metadata": {
        "colab": {
          "base_uri": "https://localhost:8080/",
          "height": 269
        },
        "id": "cNqt-THW1_Ut",
        "outputId": "730b3d38-9aec-4c52-896f-531258f94bde"
      },
      "execution_count": 104,
      "outputs": [
        {
          "output_type": "display_data",
          "data": {
            "text/plain": [
              "<Figure size 432x288 with 1 Axes>"
            ],
            "image/png": "[encoded data removed]"
          },
          "metadata": {
            "needs_background": "light"
          }
        }
      ]
    },
    {
      "cell_type": "code",
      "source": [
        "plt.pie(plat,x)\n",
        "plt.show()"
      ],
      "metadata": {
        "id": "EFA38S-s78E7"
      },
      "execution_count": null,
      "outputs": []
    }
  ]
}