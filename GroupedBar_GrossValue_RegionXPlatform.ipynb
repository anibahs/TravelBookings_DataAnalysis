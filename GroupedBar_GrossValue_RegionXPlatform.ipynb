{
  "nbformat": 4,
  "nbformat_minor": 0,
  "metadata": {
    "colab": {
      "provenance": [],
      "authorship_tag": "ABX9TyNqpB7GmEBwoqhWCUy7I8XX",
      "include_colab_link": true
    },
    "kernelspec": {
      "name": "python3",
      "display_name": "Python 3"
    },
    "language_info": {
      "name": "python"
    }
  },
  "cells": [
    {
      "cell_type": "markdown",
      "metadata": {
        "id": "view-in-github",
        "colab_type": "text"
      },
      "source": [
        "<a href=\"https://colab.research.google.com/github/anibahs/TravelBookings_DataAnalysis/blob/main/GroupedBar_GrossValue_RegionXPlatform.ipynb\" target=\"_parent\"><img src=\"https://colab.research.google.com/assets/colab-badge.svg\" alt=\"Open In Colab\"/></a>"
      ]
    },
    {
      "cell_type": "code",
      "execution_count": 1,
      "metadata": {
        "id": "WINJPjLMjI8c"
      },
      "outputs": [],
      "source": [
        "import pandas as pd;\n",
        "from matplotlib import pyplot as plt\n",
        "import numpy as np;\n",
        "%matplotlib inline"
      ]
    },
    {
      "cell_type": "code",
      "source": [
        "df = pd.read_excel(\"/content/Dataset.xlsx\",names=[\"week\",\"mobile_indicator_name\",\"platform_type_name\",\"super_region\",\"country_name\",\"booking_window_group\",\n",
        "         \"property_country\",\"net_gross_booking_value_usd\",\"net_orders\"])"
      ],
      "metadata": {
        "id": "Z90ICMFQjKFc"
      },
      "execution_count": 3,
      "outputs": []
    },
    {
      "cell_type": "code",
      "source": [
        "entries_by_platform=df.groupby([\"super_region\",\"platform_type_name\"],as_index=False).agg(gross_value = ('net_gross_booking_value_usd', 'sum'))\n"
      ],
      "metadata": {
        "id": "KSNJGPCVjPQs"
      },
      "execution_count": 7,
      "outputs": []
    },
    {
      "cell_type": "code",
      "source": [
        "listofLists = []\n",
        "\n",
        "for i in range(2,len(entries_by_platform),3):\n",
        "    listofLists.append([entries_by_platform.loc[i-2, \"super_region\"],entries_by_platform.loc[i-2, \n",
        "              \"gross_value\"],entries_by_platform.loc[i-1, \"gross_value\"],entries_by_platform.loc[i, \"gross_value\"]])\n",
        "    \n",
        "    \n",
        "df1=pd.DataFrame(listofLists, columns=['Region', 'Desktop', 'Mobile App', 'Mobile Web'])\n",
        "print(entries_by_platform)\n",
        "df1.plot(x='Region',\n",
        "        kind='bar',\n",
        "        stacked=False,\n",
        "        title='Grouped Bar Graph with dataframe')"
      ],
      "metadata": {
        "colab": {
          "base_uri": "https://localhost:8080/",
          "height": 509
        },
        "id": "Tnp4aN25jRXU",
        "outputId": "bedff651-a083-4d34-dcd5-14b37af438f6"
      },
      "execution_count": 8,
      "outputs": [
        {
          "output_type": "stream",
          "name": "stdout",
          "text": [
            "  super_region platform_type_name   gross_value\n",
            "0         APAC            Desktop  6.911254e+07\n",
            "1         APAC         Mobile App  3.294577e+07\n",
            "2         APAC         Mobile Web  1.266633e+07\n",
            "3         EMEA            Desktop  1.046738e+08\n",
            "4         EMEA         Mobile App  1.097155e+07\n",
            "5         EMEA         Mobile Web  2.380840e+07\n",
            "6        LATAM            Desktop  2.652887e+07\n",
            "7        LATAM         Mobile App  2.224027e+06\n",
            "8        LATAM         Mobile Web  4.065610e+06\n"
          ]
        },
        {
          "output_type": "execute_result",
          "data": {
            "text/plain": [
              "<matplotlib.axes._subplots.AxesSubplot at 0x7f6470bc6750>"
            ]
          },
          "metadata": {},
          "execution_count": 8
        },
        {
          "output_type": "display_data",
          "data": {
            "text/plain": [
              "<Figure size 432x288 with 1 Axes>"
            ],
            "image/png": "[encoded data removed]"
          },
          "metadata": {
            "needs_background": "light"
          }
        }
      ]
    }
  ]
}