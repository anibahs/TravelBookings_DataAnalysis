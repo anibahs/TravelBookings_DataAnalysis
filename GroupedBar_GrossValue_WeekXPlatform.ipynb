{
  "nbformat": 4,
  "nbformat_minor": 0,
  "metadata": {
    "colab": {
      "provenance": [],
      "authorship_tag": "ABX9TyM62DBqsVqbJFeEZArFSypu",
      "include_colab_link": true
    },
    "kernelspec": {
      "name": "python3",
      "display_name": "Python 3"
    },
    "language_info": {
      "name": "python"
    }
  },
  "cells": [
    {
      "cell_type": "markdown",
      "metadata": {
        "id": "view-in-github",
        "colab_type": "text"
      },
      "source": [
        "<a href=\"https://colab.research.google.com/github/anibahs/TravelBookings_DataAnalysis/blob/main/GroupedBar_GrossValue_WeekXPlatform.ipynb\" target=\"_parent\"><img src=\"https://colab.research.google.com/assets/colab-badge.svg\" alt=\"Open In Colab\"/></a>"
      ]
    },
    {
      "cell_type": "code",
      "execution_count": 1,
      "metadata": {
        "id": "WINJPjLMjI8c"
      },
      "outputs": [],
      "source": [
        "import pandas as pd;\n",
        "from matplotlib import pyplot as plt\n",
        "import numpy as np;\n",
        "%matplotlib inline"
      ]
    },
    {
      "cell_type": "code",
      "source": [
        "df = pd.read_excel(\"/content/Dataset.xlsx\",names=[\"week\",\"mobile_indicator_name\",\"platform_type_name\",\"super_region\",\"country_name\",\"booking_window_group\",\n",
        "         \"property_country\",\"net_gross_booking_value_usd\",\"net_orders\"])"
      ],
      "metadata": {
        "id": "Z90ICMFQjKFc"
      },
      "execution_count": 3,
      "outputs": []
    },
    {
      "cell_type": "code",
      "source": [
        "entries_by_platform=df.groupby([\"week\",\"platform_type_name\"],as_index=False).agg(gross_value = ('net_gross_booking_value_usd', 'sum'))\n"
      ],
      "metadata": {
        "id": "KSNJGPCVjPQs"
      },
      "execution_count": 12,
      "outputs": []
    },
    {
      "cell_type": "code",
      "source": [
        "listofLists = []\n",
        "\n",
        "for i in range(2,len(entries_by_platform),3):\n",
        "    listofLists.append([entries_by_platform.loc[i-2, \"week\"],entries_by_platform.loc[i-2, \n",
        "              \"gross_value\"],entries_by_platform.loc[i-1, \"gross_value\"],entries_by_platform.loc[i, \"gross_value\"]])\n",
        "    \n",
        "    \n",
        "df1=pd.DataFrame(listofLists, columns=['Week', 'Desktop', 'Mobile App', 'Mobile Web'])\n",
        "print(entries_by_platform)\n",
        "df1.plot(x='Week',\n",
        "        kind='bar',\n",
        "        stacked=False,\n",
        "        title='Grouped Bar Graph with dataframe')"
      ],
      "metadata": {
        "colab": {
          "base_uri": "https://localhost:8080/",
          "height": 787
        },
        "id": "Tnp4aN25jRXU",
        "outputId": "812059cb-ac86-4067-a982-2e60a020e4ab"
      },
      "execution_count": 13,
      "outputs": [
        {
          "output_type": "stream",
          "name": "stdout",
          "text": [
            "        week platform_type_name   gross_value\n",
            "0   2016-W45            Desktop  8.703035e+07\n",
            "1   2016-W45         Mobile App  2.463722e+07\n",
            "2   2016-W45         Mobile Web  1.564797e+07\n",
            "3   2016-W46            Desktop  8.881535e+07\n",
            "4   2016-W46         Mobile App  9.411764e+06\n",
            "5   2016-W46         Mobile Web  1.635459e+07\n",
            "6   2016-W47            Desktop  7.705049e+07\n",
            "7   2016-W47         Mobile App  8.354428e+06\n",
            "8   2016-W47         Mobile Web  1.382516e+07\n",
            "9   2016-W48            Desktop  6.736848e+07\n",
            "10  2016-W48         Mobile App  8.789377e+06\n",
            "11  2016-W48         Mobile Web  1.474344e+07\n",
            "12  2017-W45            Desktop  9.544986e+07\n",
            "13  2017-W45         Mobile App  1.895385e+07\n",
            "14  2017-W45         Mobile Web  2.319941e+07\n",
            "15  2017-W46            Desktop  9.452934e+07\n",
            "16  2017-W46         Mobile App  1.665724e+07\n",
            "17  2017-W46         Mobile Web  2.418435e+07\n",
            "18  2017-W47            Desktop  8.507836e+07\n",
            "19  2017-W47         Mobile App  1.579814e+07\n",
            "20  2017-W47         Mobile Web  2.193811e+07\n",
            "21  2017-W48            Desktop  7.402388e+07\n",
            "22  2017-W48         Mobile App  1.500722e+07\n",
            "23  2017-W48         Mobile Web  2.220414e+07\n"
          ]
        },
        {
          "output_type": "execute_result",
          "data": {
            "text/plain": [
              "<matplotlib.axes._subplots.AxesSubplot at 0x7f6470412650>"
            ]
          },
          "metadata": {},
          "execution_count": 13
        },
        {
          "output_type": "display_data",
          "data": {
            "text/plain": [
              "<Figure size 432x288 with 1 Axes>"
            ],
            "image/png": "[encoded data removed]"
          },
          "metadata": {
            "needs_background": "light"
          }
        }
      ]
    }
  ]
}